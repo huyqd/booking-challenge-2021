{
 "cells": [
  {
   "cell_type": "code",
   "execution_count": null,
   "outputs": [],
   "source": [
    "import pandas as pd\n",
    "from sklearn.model_selection import GroupKFold"
   ],
   "metadata": {
    "collapsed": false
   },
   "id": "330c5262e4a6f2e6"
  },
  {
   "cell_type": "code",
   "execution_count": null,
   "outputs": [],
   "source": [
    "def get_order_in_group(utrip_id_, order):\n",
    "    for i in range(len(utrip_id_)):\n",
    "        order[i] = i\n",
    "\n",
    "\n",
    "def add_cumcount(df, sort_col, outputname):\n",
    "    df = df.sort_values(sort_col, ascending=True)\n",
    "    tmp = df[['utrip_id_', 'checkin']].groupby(['utrip_id_']).apply(\n",
    "        get_order_in_group, incols=['utrip_id_'], outcols={'order': 'int32'})\n",
    "    tmp.columns = ['utrip_id_', 'checkin', outputname]\n",
    "    df = df.merge(tmp, how='left', on=['utrip_id_', 'checkin'])\n",
    "    df = df.sort_values(sort_col, ascending=True)\n",
    "    return df\n",
    "\n",
    "\n",
    "# Read CSV files using Pandas\n",
    "train = pd.read_csv('../data/train_set.csv').sort_values(by=['user_id', 'checkin'])\n",
    "test = pd.read_csv('../data/test_set.csv').sort_values(by=['user_id', 'checkin'])"
   ],
   "metadata": {
    "collapsed": false
   },
   "id": "6d5d846232ff565e"
  },
  {
   "cell_type": "code",
   "execution_count": null,
   "outputs": [],
   "source": [
    "train.head()"
   ],
   "metadata": {
    "collapsed": false
   },
   "id": "7df95d6a596bd985"
  },
  {
   "cell_type": "code",
   "execution_count": null,
   "outputs": [],
   "source": [
    "test.head()"
   ],
   "metadata": {
    "collapsed": false
   },
   "id": "a4176502913ad738"
  },
  {
   "cell_type": "code",
   "execution_count": null,
   "outputs": [],
   "source": [
    "# Add 'istest' column\n",
    "train['istest'] = 0\n",
    "test['istest'] = 1"
   ],
   "metadata": {
    "collapsed": false
   },
   "id": "ad3b01e1b3984f69"
  },
  {
   "cell_type": "code",
   "execution_count": null,
   "outputs": [],
   "source": [
    "# Concatenate train and test DataFrames\n",
    "raw = pd.concat([train, test], sort=False)\n",
    "\n",
    "# Sort the DataFrame by 'user_id' and 'checkin'\n",
    "raw = raw.sort_values(['user_id', 'checkin'], ascending=True, ignore_index=True)\n",
    "\n",
    "# Display the first few rows\n",
    "raw.head()"
   ],
   "metadata": {
    "collapsed": false
   },
   "id": "1454bb62d154e823"
  },
  {
   "cell_type": "code",
   "execution_count": null,
   "outputs": [],
   "source": [
    "# Add 'fold' column\n",
    "raw['fold'] = 0\n",
    "\n",
    "# Use GroupKFold for creating folds\n",
    "group_kfold = GroupKFold(n_splits=5)\n",
    "for fold, (train_index, test_index) in enumerate(group_kfold.split(X=raw, y=raw, groups=raw['utrip_id'])):\n",
    "    raw.loc[test_index, 'fold'] = fold\n",
    "\n",
    "# Display the count of each fold\n",
    "raw['fold'].value_counts()"
   ],
   "metadata": {
    "collapsed": false
   },
   "id": "4f3ee37302c7f6e4"
  },
  {
   "cell_type": "code",
   "execution_count": null,
   "outputs": [],
   "source": [
    "# Add 'submission' column\n",
    "raw['submission'] = 0\n",
    "\n",
    "# Set 'submission' to 1 for rows where 'city_id' is 0 and 'istest' is True\n",
    "raw.loc[(raw['city_id'] == 0) & (raw['istest']), 'submission'] = 1\n",
    "\n",
    "# Display rows where 'submission' is 1\n",
    "raw.loc[raw['submission'] == 1]"
   ],
   "metadata": {
    "collapsed": false
   },
   "id": "9a891a5bbedda258"
  },
  {
   "cell_type": "code",
   "execution_count": null,
   "outputs": [],
   "source": [
    "# Number of places visited in each trip\n",
    "aggs = raw.groupby('utrip_id', as_index=False)['user_id'].count()\n",
    "aggs.columns = ['utrip_id', 'N']\n",
    "raw = raw.merge(aggs, on=['utrip_id'], how='inner')\n",
    "raw.head()"
   ],
   "metadata": {
    "collapsed": false
   },
   "id": "4087f80ac2773bd6"
  },
  {
   "cell_type": "code",
   "execution_count": null,
   "outputs": [],
   "source": [
    "pd.factorize(raw['utrip_id'])"
   ],
   "metadata": {
    "collapsed": false
   },
   "id": "37f86d35e0e3a7b5"
  },
  {
   "cell_type": "code",
   "execution_count": null,
   "outputs": [],
   "source": [
    "raw.head()"
   ],
   "metadata": {
    "collapsed": false
   },
   "id": "35208f1684a0ae82"
  },
  {
   "cell_type": "code",
   "execution_count": null,
   "outputs": [],
   "source": [
    "# Factorize 'utrip_id' and create a mapping\n",
    "raw['utrip_id_'], mp = pd.factorize(raw['utrip_id'])\n",
    "\n",
    "raw = raw.sort_values(by=['utrip_id_', 'checkin'], ascending=True)\n",
    "raw = pd.concat([raw, raw.groupby('utrip_id_').cumcount().rename('dcount')], axis=1)"
   ],
   "metadata": {
    "collapsed": false
   },
   "id": "94b92e23d749fbd5"
  },
  {
   "cell_type": "code",
   "execution_count": null,
   "outputs": [],
   "source": [
    "# Calculate 'icount' column\n",
    "raw['icount'] = raw['N'] - raw['dcount'] - 1\n",
    "\n",
    "# Display the first 50 rows\n",
    "raw.head(50)"
   ],
   "metadata": {
    "collapsed": false
   },
   "id": "fa53aefb5ff08868"
  },
  {
   "cell_type": "code",
   "execution_count": null,
   "outputs": [],
   "source": [
    "# Save the DataFrame to a CSV file\n",
    "raw.to_csv('../data/train_and_test_2.csv', index=False)"
   ],
   "metadata": {
    "collapsed": false
   },
   "id": "e23f376f9eb3772a"
  }
 ],
 "metadata": {
  "kernelspec": {
   "display_name": "Python 3",
   "language": "python",
   "name": "python3"
  },
  "language_info": {
   "codemirror_mode": {
    "name": "ipython",
    "version": 2
   },
   "file_extension": ".py",
   "mimetype": "text/x-python",
   "name": "python",
   "nbconvert_exporter": "python",
   "pygments_lexer": "ipython2",
   "version": "2.7.6"
  }
 },
 "nbformat": 4,
 "nbformat_minor": 5
}
